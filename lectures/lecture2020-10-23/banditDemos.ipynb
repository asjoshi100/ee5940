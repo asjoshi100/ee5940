{
 "cells": [
  {
   "cell_type": "code",
   "execution_count": 10,
   "metadata": {},
   "outputs": [],
   "source": [
    "import numpy as np\n",
    "import numpy.random as rnd\n",
    "import scipy.stats as st\n",
    "import matplotlib.pyplot as plt\n",
    "\n",
    "%matplotlib inline"
   ]
  },
  {
   "cell_type": "markdown",
   "metadata": {},
   "source": [
    "We have $q_1,\\ldots,q_n$ probabilities of receiving reward $1$. By exploration, we want to find the largest one and accumlate the largest total reward."
   ]
  },
  {
   "cell_type": "code",
   "execution_count": 87,
   "metadata": {},
   "outputs": [],
   "source": [
    "class epsGreedyAgent:\n",
    "    def __init__(self,nQ,epsilon=.1,label='Name'):\n",
    "        self.nQ = nQ\n",
    "        self.epsilon = epsilon\n",
    "        self.label=label\n",
    "        \n",
    "        # Slightly different variation\n",
    "        # This uses a Laplace prior, effectively\n",
    "        self.TotCounts = 2*np.ones(nQ)\n",
    "        self.PosCounts = np.ones(nQ)\n",
    "        self.Q_est = self.PosCounts / self.TotCounts\n",
    "        \n",
    "    def action(self):\n",
    "        b = st.bernoulli.rvs(1-self.epsilon)\n",
    "        if b:\n",
    "            a = np.argmax(self.Q_est)\n",
    "        else:\n",
    "            a = rnd.choice(self.nQ)\n",
    "        return a\n",
    "    \n",
    "    def update(self,a,r):\n",
    "        self.PosCounts[a] += r\n",
    "        self.TotCounts[a] += 1\n",
    "        self.Q_est = self.PosCounts / self.TotCounts\n",
    "        \n",
    "class ucbAgent:\n",
    "    \"\"\"\n",
    "    Upper Confidence Bound Algorithm\n",
    "    \"\"\"\n",
    "    def __init__(self,nQ,label='UCB'):\n",
    "        self.nQ = nQ\n",
    "        \n",
    "        self.label=label\n",
    "        # These are the true initial Counts\n",
    "        self.TotCounts = np.zeros(nQ)\n",
    "        self.PosCounts = np.zeros(nQ)\n",
    "        \n",
    "        self.UCB = np.inf*np.ones(nQ)\n",
    "        \n",
    "    def action(self):\n",
    "        a = np.argmax(self.UCB)\n",
    "        return a\n",
    "        \n",
    "    def update(self,a,r):\n",
    "        self.PosCounts[a] += r\n",
    "        self.TotCounts[a] += 1\n",
    "        \n",
    "        UCB = []\n",
    "        n = np.sum(self.TotCounts)\n",
    "        for a in range(self.nQ):\n",
    "            na = self.TotCounts[a]\n",
    "            # Extra term is the uncertainty bonus\n",
    "            if na == 0:\n",
    "                bonus = np.inf\n",
    "                m = 0\n",
    "            else:\n",
    "                m = self.PosCounts[a] / self.TotCounts[a]\n",
    "                bonus = np.sqrt(2*np.log(n)/na)\n",
    "                \n",
    "            # The UCB is the largest plausible value\n",
    "            ucb = m + bonus\n",
    "            \n",
    "            UCB.append(ucb)\n",
    "            \n",
    "        self.UCB = np.array(UCB)\n",
    "        \n",
    "\n",
    "class tsAgent:\n",
    "    \"\"\"\n",
    "    Thompson Sampling\n",
    "    \"\"\"\n",
    "    \n",
    "    def __init__(self,nQ,label='Thompson Sampling'):\n",
    "        self.nQ = nQ\n",
    "        self.label = label\n",
    "        \n",
    "        # This is to correspond to a uniform prior\n",
    "        self.TotCounts = 2*np.ones(nQ)\n",
    "        self.PosCounts = np.ones(nQ)\n",
    "        \n",
    "        self.sampleModel()\n",
    "        \n",
    "    def sampleModel(self):\n",
    "        Q = []\n",
    "        for a in range(self.nQ):\n",
    "            # Number of times we got 1 (+1)\n",
    "            alpha = self.PosCounts[a]\n",
    "            # Number of times we got a 0 (+1)\n",
    "            beta = self.TotCounts[a] - self.PosCounts[a]\n",
    "            \n",
    "            # Beta \n",
    "            q = st.beta.rvs(alpha,beta)\n",
    "            Q.append(q)\n",
    "            \n",
    "        self.Q = np.array(Q)\n",
    "        \n",
    "    def action(self):\n",
    "        a = np.argmax(self.Q)\n",
    "        return a\n",
    "        \n",
    "    def update(self,a,r):\n",
    "        self.TotCounts[a] += 1\n",
    "        self.PosCounts[a] += r\n",
    "        \n",
    "        self.sampleModel()\n",
    "            \n",
    "            \n",
    "        \n",
    "        "
   ]
  },
  {
   "cell_type": "code",
   "execution_count": 83,
   "metadata": {},
   "outputs": [
    {
     "data": {
      "image/png": "[encoded data removed]",
      "text/plain": [
       "<Figure size 432x288 with 1 Axes>"
      ]
     },
     "metadata": {
      "needs_background": "light"
     },
     "output_type": "display_data"
    }
   ],
   "source": [
    "q_plot = np.linspace(0,1,100)\n",
    "AlphaBetas = [(1,1),(5,2),(4,20)]\n",
    "\n",
    "for alpha,beta in AlphaBetas:\n",
    "    pdf = st.beta.pdf(q_plot,alpha,beta)\n",
    "    plt.plot(q_plot,pdf)"
   ]
  },
  {
   "cell_type": "markdown",
   "metadata": {},
   "source": [
    "The Beta  distrubtion is supported on $[0,1]$ and has the density\n",
    "$$\n",
    "p(q|\\alpha,\\beta) = \\frac{1}{B(\\alpha,\\beta)}q^{\\alpha-1}(1-q)^{\\beta -1}\n",
    "$$"
   ]
  },
  {
   "cell_type": "code",
   "execution_count": 90,
   "metadata": {},
   "outputs": [
    {
     "data": {
      "text/plain": [
       "[<matplotlib.lines.Line2D at 0x7ff52d515460>]"
      ]
     },
     "execution_count": 90,
     "metadata": {},
     "output_type": "execute_result"
    },
    {
     "data": {
      "image/png": "[encoded data removed]",
      "text/plain": [
       "<Figure size 432x288 with 1 Axes>"
      ]
     },
     "metadata": {
      "needs_background": "light"
     },
     "output_type": "display_data"
    }
   ],
   "source": [
    "nQ = 100\n",
    "numSteps = 20000\n",
    "# Uniformly random reward distribution\n",
    "q_true = rnd.rand(nQ)\n",
    "\n",
    "# True Rewards\n",
    "R_true = np.column_stack([st.bernoulli.rvs(q,size=numSteps) for q in q_true]) \n",
    "\n",
    "eps10 = epsGreedyAgent(nQ,0.1,label='epsilon - 0.1') \n",
    "eps01 = epsGreedyAgent(nQ,0.01,label='epsilon - 0.01')\n",
    "ucb = ucbAgent(nQ)\n",
    "thompson = tsAgent(nQ)\n",
    "\n",
    "Agents = [eps10,eps01,ucb,thompson]\n",
    "\n",
    "for agent in Agents:\n",
    "    Rewards = []\n",
    "    for step in range(numSteps):\n",
    "        a = agent.action()\n",
    "        r = R_true[step,a]\n",
    "        agent.update(a,r)\n",
    "        Rewards.append(r)\n",
    "        \n",
    "    plt.plot(np.cumsum(Rewards)/(1+np.arange(numSteps)),label=agent.label)\n",
    "    \n",
    "plt.legend()\n",
    "plt.plot([0,numSteps-1],np.max(q_true)*np.ones(2),'k:')"
   ]
  },
  {
   "cell_type": "code",
   "execution_count": null,
   "metadata": {},
   "outputs": [],
   "source": []
  }
 ],
 "metadata": {
  "kernelspec": {
   "display_name": "Python 3",
   "language": "python",
   "name": "python3"
  },
  "language_info": {
   "codemirror_mode": {
    "name": "ipython",
    "version": 3
   },
   "file_extension": ".py",
   "mimetype": "text/x-python",
   "name": "python",
   "nbconvert_exporter": "python",
   "pygments_lexer": "ipython3",
   "version": "3.8.5"
  }
 },
 "nbformat": 4,
 "nbformat_minor": 4
}
