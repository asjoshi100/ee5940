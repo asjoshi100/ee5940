{
 "cells": [
  {
   "cell_type": "code",
   "execution_count": 3,
   "metadata": {},
   "outputs": [],
   "source": [
    "import numpy as np\n",
    "import scipy.linalg as la\n",
    "import matplotlib.pyplot as plt\n",
    "%matplotlib inline"
   ]
  },
  {
   "cell_type": "code",
   "execution_count": 12,
   "metadata": {},
   "outputs": [
    {
     "data": {
      "text/plain": [
       "[<matplotlib.lines.Line2D at 0x7f7f9da6f220>,\n",
       " <matplotlib.lines.Line2D at 0x7f7f9da6f310>]"
      ]
     },
     "execution_count": 12,
     "metadata": {},
     "output_type": "execute_result"
    },
    {
     "data": {
      "image/png": "[encoded data removed]",
      "text/plain": [
       "<Figure size 432x288 with 1 Axes>"
      ]
     },
     "metadata": {
      "needs_background": "light"
     },
     "output_type": "display_data"
    }
   ],
   "source": [
    "A = np.array([[0,1.],\n",
    "              [0,0]])\n",
    "B = np.array([[0.],\n",
    "              [1.]])\n",
    "\n",
    "# Tunable parameter\n",
    "alpha = 1.e5\n",
    "beta = 1e3\n",
    "Q = np.diag([alpha,beta])\n",
    "R = np.array([[1.]])\n",
    "\n",
    "# Computes the controller based on tuned paramers\n",
    "S = la.solve_continuous_are(A,B,Q,R)\n",
    "# K is  the controller which would be implemented\n",
    "K = -la.solve(R,B.T@S)\n",
    "\n",
    "\n",
    "ACL = A + B@K\n",
    "\n",
    "# Initial Condition\n",
    "x = np.array([1.,0.])\n",
    "\n",
    "Time = np.linspace(0,1,100)\n",
    "\n",
    "X = []\n",
    "for t in Time:\n",
    "    X.append(la.expm(ACL*t)@x)\n",
    "    \n",
    "X = np.array(X)\n",
    "plt.plot(Time,X)"
   ]
  },
  {
   "cell_type": "markdown",
   "metadata": {},
   "source": [
    "This implements\n",
    "\n",
    "$\\dot x(t) = Ax(t) + Bu(t)$ where $u(t) = Kx(t)$."
   ]
  },
  {
   "cell_type": "code",
   "execution_count": null,
   "metadata": {},
   "outputs": [],
   "source": [
    "T"
   ]
  }
 ],
 "metadata": {
  "kernelspec": {
   "display_name": "Python 3",
   "language": "python",
   "name": "python3"
  },
  "language_info": {
   "codemirror_mode": {
    "name": "ipython",
    "version": 3
   },
   "file_extension": ".py",
   "mimetype": "text/x-python",
   "name": "python",
   "nbconvert_exporter": "python",
   "pygments_lexer": "ipython3",
   "version": "3.8.2"
  }
 },
 "nbformat": 4,
 "nbformat_minor": 4
}
