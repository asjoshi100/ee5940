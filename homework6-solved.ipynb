{
 "cells": [
  {
   "cell_type": "markdown",
   "metadata": {},
   "source": [
    "# Oh hey\n",
    "\n",
    "This homework is just coding. We will be working with a simple example from OpenAI gym called \"Frozen Lake\". It is a text-based maze environment that your controller will learn to navigate. It is slippery, however, so sometimes you don't always move where you try to go."
   ]
  },
  {
   "cell_type": "code",
   "execution_count": 1,
   "metadata": {},
   "outputs": [
    {
     "name": "stdout",
     "output_type": "stream",
     "text": [
      "\n",
      "\u001b[41mS\u001b[0mFFF\n",
      "FHFH\n",
      "FFFH\n",
      "HFFG\n"
     ]
    }
   ],
   "source": [
    "import gym\n",
    "import numpy as np\n",
    "import numpy.random as rnd\n",
    "import matplotlib.pyplot as plt\n",
    "\n",
    "%matplotlib inline\n",
    "env=gym.make('FrozenLake-v0')\n",
    "env.render()"
   ]
  },
  {
   "cell_type": "markdown",
   "metadata": {},
   "source": [
    "The board can be interpretted as follows\n",
    "* S - Start State\n",
    "* F - Frozen parts\n",
    "* H - Holes\n",
    "* G - Goal\n",
    "\n",
    "The episode ends if you hit a hole or the goal state. You recieve a reward of $1$ if you reach the goal and a reward of $0$ otherwise."
   ]
  },
  {
   "cell_type": "code",
   "execution_count": 2,
   "metadata": {},
   "outputs": [
    {
     "name": "stdout",
     "output_type": "stream",
     "text": [
      "  (Up)\n",
      "SFFF\n",
      "F\u001b[41mH\u001b[0mFH\n",
      "FFFH\n",
      "HFFG\n",
      "[0.0, 0.0]\n"
     ]
    }
   ],
   "source": [
    "s = env.reset()\n",
    "\n",
    "done = False\n",
    "R = []\n",
    "while not done:\n",
    "    a = env.action_space.sample()\n",
    "        \n",
    "    s, r, done, info = env.step(a)\n",
    "    R.append(r)\n",
    "\n",
    "    \n",
    "env.render()\n",
    "print(R)"
   ]
  },
  {
   "cell_type": "markdown",
   "metadata": {},
   "source": [
    "# Question\n",
    "\n",
    "Use on-policy Monte Carlo control to learn a policy for this problem. (See 5.4 of the book.) Simulate $100,000$ episodes. Let $G^i$ be the total reward for episode $i$. \n",
    "\n",
    "Make a plot of $\\frac{1}{i}\\sum_{j=1}^i G^j$ (the running average of the rewards), for $i=1$ to $100,000$. Try to get it to learn well, but don't spend forever tuning parameters. Go outside. Treat yourself. \n",
    "\n",
    "Here are some tips about the learning process.\n",
    "\n",
    "* With well-tuned controller, average rewards of around 0.7 are possible. (That is, it is solved 70% of the time) \n",
    "* With the basic Monte Carlo controller, you probably won't get very close to that after $100,000$ steps. (Average rewards between 0.2 and 0.4 would be more likely.)\n",
    "* The main free parameter in the Monte Carlo algorithm is $\\epsilon$, which is the probability that you choose the action completely at random. Typically $\\epsilon$ must start fairly large, to promote exploration, and then decrease as more data has been collected. A reasonble tuning rule takes the form $\\epsilon_i = i^{-\\beta}$ on episode $i$, where $\\beta\\in (0,1)$. You may need to play around with this to get good results. \n",
    "* The performance of the learning algorithm can vary from trial to trial due to randomness.\n",
    "* If an episode is taking a long time, the environment will time out. When that happens, the `info` dictionary will have an entry with key 'TimeLimit.truncated'. This is not a big deal for the Monte Carlo method. It will be important when we start doing policy iteration on the estimated model."
   ]
  },
  {
   "cell_type": "code",
   "execution_count": 3,
   "metadata": {},
   "outputs": [],
   "source": [
    "# Make your simulation here"
   ]
  },
  {
   "cell_type": "code",
   "execution_count": 4,
   "metadata": {},
   "outputs": [
    {
     "name": "stdout",
     "output_type": "stream",
     "text": [
      "1000 0.055\n",
      "2000 0.064\n",
      "3000 0.08733333333333333\n",
      "4000 0.10425\n",
      "5000 0.1162\n",
      "6000 0.12566666666666668\n",
      "7000 0.13914285714285715\n",
      "8000 0.168375\n",
      "9000 0.18766666666666668\n",
      "10000 0.2054\n",
      "11000 0.21927272727272729\n",
      "12000 0.22958333333333333\n",
      "13000 0.23984615384615385\n",
      "14000 0.24857142857142858\n",
      "15000 0.25733333333333336\n",
      "16000 0.2643125\n",
      "17000 0.2712941176470588\n",
      "18000 0.2776666666666667\n",
      "19000 0.28210526315789475\n",
      "20000 0.28625\n",
      "21000 0.2917142857142857\n",
      "22000 0.2964090909090909\n",
      "23000 0.2992173913043478\n",
      "24000 0.30320833333333336\n",
      "25000 0.30712\n",
      "26000 0.3105769230769231\n",
      "27000 0.31403703703703706\n",
      "28000 0.31742857142857145\n",
      "29000 0.3202758620689655\n",
      "30000 0.32293333333333335\n",
      "31000 0.3251612903225806\n",
      "32000 0.32815625\n",
      "33000 0.32981818181818184\n",
      "34000 0.3322352941176471\n",
      "35000 0.3341142857142857\n",
      "36000 0.33602777777777776\n",
      "37000 0.3381081081081081\n",
      "38000 0.3396315789473684\n",
      "39000 0.34082051282051284\n",
      "40000 0.34265\n",
      "41000 0.3440731707317073\n",
      "42000 0.3453333333333333\n",
      "43000 0.34713953488372096\n",
      "44000 0.34861363636363635\n",
      "45000 0.3494\n",
      "46000 0.3507391304347826\n",
      "47000 0.3516595744680851\n",
      "48000 0.35279166666666667\n",
      "49000 0.35446938775510206\n",
      "50000 0.35558\n",
      "51000 0.35715686274509806\n",
      "52000 0.3580576923076923\n",
      "53000 0.3588490566037736\n",
      "54000 0.35994444444444446\n",
      "55000 0.36107272727272727\n",
      "56000 0.36126785714285714\n",
      "57000 0.362140350877193\n",
      "58000 0.3633448275862069\n",
      "59000 0.3639661016949153\n",
      "60000 0.365\n",
      "61000 0.3657049180327869\n",
      "62000 0.3664516129032258\n",
      "63000 0.3673015873015873\n",
      "64000 0.368375\n",
      "65000 0.36923076923076925\n",
      "66000 0.37004545454545457\n",
      "67000 0.37062686567164177\n",
      "68000 0.37101470588235297\n",
      "69000 0.3717536231884058\n",
      "70000 0.3725\n",
      "71000 0.37308450704225354\n",
      "72000 0.3736388888888889\n",
      "73000 0.3741369863013699\n",
      "74000 0.374472972972973\n",
      "75000 0.37522666666666665\n",
      "76000 0.3761973684210526\n",
      "77000 0.3766103896103896\n",
      "78000 0.3772051282051282\n",
      "79000 0.3779493670886076\n",
      "80000 0.3783875\n",
      "81000 0.37923456790123455\n",
      "82000 0.3796951219512195\n",
      "83000 0.3803614457831325\n",
      "84000 0.3806904761904762\n",
      "85000 0.38123529411764706\n",
      "86000 0.3816279069767442\n",
      "87000 0.38222988505747124\n",
      "88000 0.3826931818181818\n",
      "89000 0.3831685393258427\n",
      "90000 0.3836333333333333\n",
      "91000 0.38405494505494503\n",
      "92000 0.38479347826086957\n",
      "93000 0.3853548387096774\n",
      "94000 0.38565957446808513\n",
      "95000 0.3858315789473684\n",
      "96000 0.3863125\n",
      "97000 0.38688659793814434\n",
      "98000 0.3876938775510204\n",
      "99000 0.38786868686868686\n",
      "100000 0.38833\n"
     ]
    },
    {
     "data": {
      "text/plain": [
       "[<matplotlib.lines.Line2D at 0x7fef534040b8>]"
      ]
     },
     "execution_count": 4,
     "metadata": {},
     "output_type": "execute_result"
    },
    {
     "data": {
      "image/png": "[encoded data removed]",
      "text/plain": [
       "<Figure size 432x288 with 1 Axes>"
      ]
     },
     "metadata": {},
     "output_type": "display_data"
    }
   ],
   "source": [
    "# Solution\n",
    "\n",
    "import finiteStateAgents as fs\n",
    "\n",
    "\n",
    "NumEpisodes = 100000\n",
    "agent = fs.mcAgent(env,epsilon=1.,gamma = 0.99)\n",
    "beta = .3\n",
    "\n",
    "R_tot = []\n",
    "\n",
    "for ep in range(NumEpisodes):\n",
    "    s = env.reset()\n",
    "    epsilon = (1/(1+ep))**(beta)\n",
    "    agent.epsilon = epsilon\n",
    "    R = []\n",
    "    done = False\n",
    "    while not done:\n",
    "        a = agent.action(s)\n",
    "        \n",
    "        s_next, reward, done, info = env.step(a)\n",
    "        agent.update(s,a,reward,s_next,done,info)\n",
    "        s = s_next\n",
    "        R.append(reward)\n",
    "        if done:\n",
    "                \n",
    "            R_tot.append(np.sum(R))\n",
    "            break\n",
    "            \n",
    "    if ((ep+1) % 1000) == 0:\n",
    "        print(ep+1,np.sum(R_tot)/(ep+1))\n",
    "            \n",
    "            \n",
    "            \n",
    "plt.plot(np.cumsum(R_tot)/np.arange(1,NumEpisodes+1),'.')"
   ]
  },
  {
   "cell_type": "markdown",
   "metadata": {},
   "source": [
    "# Question\n",
    "\n",
    "Now design a controller that learns a model for the transition probabilities, $p(s'|s,a)$ and the rewards $r(s,a) = \\mathbb{E}[R_{t+1}|S_t = s,A_t = a]$, and uses the estimates for policy iterations.\n",
    "\n",
    "Specifically, do the following. Fix some initial policy. Then repeat the following procedure for 100,000 (or fewer if your code is very slow) steps:\n",
    "\n",
    "* Simulate an episode with the current policy.\n",
    "* Use the new data to update your model of $p(s'|s,a)$ and $r(s,a)$.\n",
    "* Compute an updated policy by policy iteration.\n",
    "* Modify the policy to make it $\\epsilon$-greedy.\n",
    "\n",
    "Some tips:\n",
    "* For policy iteration to work properly, you need to ensure that $p(\\hat s | \\hat s,a)=1$ and $r(\\hat s,a)=0$ for all terminal states, $\\hat s$. \n",
    "* You can check that a state is terminal if it is the state returned by the `env.step` function when the episode ends normally. That is when `done` is `True` and `info['TimeLimit.truncated']` is not `True`.\n",
    "* When the episode ends normally, `'TimeLimit.truncated'` will not be a key of the `info` dictionary.\n",
    "* You will need to use a discount factor $0 < \\gamma < 1$  to ensure tht policy evaluation is solvable.\n",
    "* The matrix vector version of policy evaluation from the last will likely be more efficient than the iteration described in the book.\n",
    "* You will still need to decrease $\\epsilon$ as the number of episodes increases as above.\n",
    "* This strategy should improve more quickly (as a function of the episode count) than the basic Monte Carlo method, at the expense of extra computation.\n",
    "* There is a good chance you won't be able to get up to rewards in the 0.7 range without tuning $\\epsilon$ very well or running a very large number of episodes."
   ]
  },
  {
   "cell_type": "code",
   "execution_count": 5,
   "metadata": {},
   "outputs": [],
   "source": [
    "# Make your simulation here"
   ]
  },
  {
   "cell_type": "code",
   "execution_count": 6,
   "metadata": {},
   "outputs": [
    {
     "name": "stdout",
     "output_type": "stream",
     "text": [
      "1000 0.251\n",
      "2000 0.2895\n",
      "3000 0.319\n",
      "4000 0.3465\n",
      "5000 0.3648\n",
      "6000 0.382\n",
      "7000 0.3952857142857143\n",
      "8000 0.40425\n",
      "9000 0.41255555555555556\n",
      "10000 0.4212\n",
      "11000 0.42927272727272725\n",
      "12000 0.4365\n",
      "13000 0.44146153846153846\n",
      "14000 0.4466428571428571\n",
      "15000 0.4518\n",
      "16000 0.4565625\n",
      "17000 0.46158823529411763\n",
      "18000 0.46444444444444444\n",
      "19000 0.46757894736842104\n",
      "20000 0.4704\n",
      "21000 0.4744285714285714\n",
      "22000 0.4777272727272727\n",
      "23000 0.4796521739130435\n",
      "24000 0.4820833333333333\n",
      "25000 0.48448\n",
      "26000 0.48673076923076924\n",
      "27000 0.48914814814814817\n",
      "28000 0.49142857142857144\n",
      "29000 0.49344827586206896\n",
      "30000 0.4963666666666667\n",
      "31000 0.4975806451612903\n",
      "32000 0.4999375\n",
      "33000 0.5016060606060606\n",
      "34000 0.5026764705882353\n",
      "35000 0.505\n",
      "36000 0.5060277777777777\n",
      "37000 0.5084864864864865\n",
      "38000 0.5098421052631579\n",
      "39000 0.5114358974358975\n",
      "40000 0.513\n",
      "41000 0.5137317073170732\n",
      "42000 0.5151428571428571\n",
      "43000 0.5158139534883721\n",
      "44000 0.5175909090909091\n",
      "45000 0.5186444444444445\n",
      "46000 0.5196739130434782\n",
      "47000 0.5211702127659574\n",
      "48000 0.5223333333333333\n",
      "49000 0.5232244897959184\n",
      "50000 0.52508\n",
      "51000 0.5262745098039215\n",
      "52000 0.5272692307692308\n",
      "53000 0.5283962264150943\n",
      "54000 0.5296851851851851\n",
      "55000 0.5302\n",
      "56000 0.5312321428571428\n",
      "57000 0.5323333333333333\n",
      "58000 0.5331896551724138\n",
      "59000 0.5340677966101695\n",
      "60000 0.5355166666666666\n",
      "61000 0.5368852459016393\n",
      "62000 0.5379032258064517\n",
      "63000 0.5388095238095238\n",
      "64000 0.539375\n",
      "65000 0.5404\n",
      "66000 0.5408787878787878\n",
      "67000 0.5419701492537313\n",
      "68000 0.5430882352941176\n",
      "69000 0.5439130434782609\n",
      "70000 0.5447428571428572\n",
      "71000 0.5459154929577464\n",
      "72000 0.5465833333333333\n",
      "73000 0.5473835616438356\n",
      "74000 0.5479324324324324\n",
      "75000 0.5487466666666667\n",
      "76000 0.5495\n",
      "77000 0.5501818181818182\n",
      "78000 0.5507948717948717\n",
      "79000 0.5513164556962026\n",
      "80000 0.5520375\n",
      "81000 0.5525432098765433\n",
      "82000 0.5530365853658537\n",
      "83000 0.5538674698795181\n",
      "84000 0.5546190476190476\n",
      "85000 0.5554117647058824\n",
      "86000 0.5562674418604651\n",
      "87000 0.5567471264367816\n",
      "88000 0.5572840909090909\n",
      "89000 0.557876404494382\n",
      "90000 0.5582555555555555\n",
      "91000 0.5587802197802197\n",
      "92000 0.5592717391304348\n",
      "93000 0.5598279569892474\n",
      "94000 0.5602553191489361\n",
      "95000 0.5609052631578947\n",
      "96000 0.5615416666666667\n",
      "97000 0.562\n",
      "98000 0.562765306122449\n",
      "99000 0.5632222222222222\n",
      "100000 0.56372\n"
     ]
    },
    {
     "data": {
      "text/plain": [
       "[<matplotlib.lines.Line2D at 0x7fef554ec2b0>]"
      ]
     },
     "execution_count": 6,
     "metadata": {},
     "output_type": "execute_result"
    },
    {
     "data": {
      "image/png": "[encoded data removed]",
      "text/plain": [
       "<Figure size 432x288 with 1 Axes>"
      ]
     },
     "metadata": {},
     "output_type": "display_data"
    }
   ],
   "source": [
    "# Solution\n",
    "\n",
    "import finiteStateAgents as fs\n",
    "\n",
    "\n",
    "NumEpisodes = 100000\n",
    "agent = fs.piAgent(env,epsilon=1.,gamma = 0.99)\n",
    "beta = .3\n",
    "\n",
    "R_tot = []\n",
    "\n",
    "for ep in range(NumEpisodes):\n",
    "    s = env.reset()\n",
    "    epsilon = (1/(1+ep))**(beta)\n",
    "    agent.epsilon = epsilon\n",
    "    R = []\n",
    "    done = False\n",
    "    while not done:\n",
    "        a = agent.action(s)\n",
    "        \n",
    "        s_next, reward, done, info = env.step(a)\n",
    "        agent.update(s,a,reward,s_next,done,info)\n",
    "        s = s_next\n",
    "        R.append(reward)\n",
    "        if done:\n",
    "                \n",
    "            R_tot.append(np.sum(R))\n",
    "            break\n",
    "            \n",
    "    if ((ep+1) % 1000) == 0:\n",
    "        print(ep+1,np.sum(R_tot)/(ep+1))\n",
    "            \n",
    "            \n",
    "            \n",
    "plt.plot(np.cumsum(R_tot)/np.arange(1,NumEpisodes+1),'.')"
   ]
  },
  {
   "cell_type": "code",
   "execution_count": null,
   "metadata": {},
   "outputs": [],
   "source": []
  }
 ],
 "metadata": {
  "kernelspec": {
   "display_name": "Python [default]",
   "language": "python",
   "name": "python3"
  },
  "language_info": {
   "codemirror_mode": {
    "name": "ipython",
    "version": 3
   },
   "file_extension": ".py",
   "mimetype": "text/x-python",
   "name": "python",
   "nbconvert_exporter": "python",
   "pygments_lexer": "ipython3",
   "version": "3.6.8"
  }
 },
 "nbformat": 4,
 "nbformat_minor": 2
}
