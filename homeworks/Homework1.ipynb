{
 "cells": [
  {
   "cell_type": "markdown",
   "metadata": {},
   "source": [
    "Oh hey. Welcome to the first homework. \n",
    "\n",
    "# Jupyter Notebooks\n",
    "Any time we do coding, we will be using Jupyter notebooks. Jupyter notebooks consist of *cells* which can be either markdown (for text) or code. You can execute the code by running the cells. (Either by pressing one of the run buttons or using `ctrl+enter`.\n",
    "\n",
    "A Jupyter notebook runs a python interpreter within the browser. This means the following things that will become more clear as you use it:\n",
    "- Commands are run in the order you run them.\n",
    "- Variables, functions, and other objects are loaded into memory in the order they are defined.\n",
    "- If you shutdown the notebook, all of the variables, functions, and other objects are removed from memory.\n",
    "- If you restart the notebook, you will need to run the code cells again to redefine the variables, functions, and other objects.\n",
    "\n",
    "(This often causes confusion for new users, as they try to pick up where they left off from a previous day, and they start getting errors because none of the variables are loaded into memory.)\n",
    "\n"
   ]
  },
  {
   "cell_type": "code",
   "execution_count": null,
   "metadata": {},
   "outputs": [],
   "source": [
    "# This code cell imports the basic scientific programming Libraries that we will use\n",
    "# The later code will not work unless your run this one first.\n",
    "import numpy as np\n",
    "import scipy.linalg as la\n",
    "import scipy.integrate as itg\n",
    "import matplotlib.pyplot as plt\n",
    "\n",
    "%matplotlib inline"
   ]
  },
  {
   "cell_type": "markdown",
   "metadata": {},
   "source": [
    "Here we will implement some basic Newton's equations \n",
    "\n",
    "\\begin{equation*}\n",
    "\\dot x(t) = \\begin{bmatrix} 0 & 1 \\\\\n",
    "0 & 0 \\end{bmatrix} x(t) + \\begin{bmatrix}0 \\\\ 1 \\end{bmatrix}u(t)\n",
    "\\end{equation*}\n",
    "where we have set $m=1$ for simplicity. \n",
    "\n",
    "We will show what happens when the system is run with an open-loop input as shown below:"
   ]
  },
  {
   "cell_type": "code",
   "execution_count": null,
   "metadata": {},
   "outputs": [],
   "source": [
    "def simpleInputFunction(t):\n",
    "    if t < 1:\n",
    "        u = np.array([1.])\n",
    "    elif t < 2:\n",
    "        u = np.array([-1.])\n",
    "    else:\n",
    "        u = np.array([0.])\n",
    "    return u\n",
    "\n",
    "Time = np.linspace(0,3,100)\n",
    "U = np.array([simpleInputFunction(t) for t in Time])\n",
    "plt.plot(Time,U)\n",
    "plt.xlabel('Time',fontsize=16)\n",
    "plt.ylabel(r'$U(t)$',fontsize=16)\n",
    "plt.title('Input Trajectory')"
   ]
  },
  {
   "cell_type": "markdown",
   "metadata": {},
   "source": [
    "The simulation will use `odeint` from the `scipy.integrate` package. This function simulates ordinary differential equations of the form:\n",
    "\\begin{equation*}\n",
    "\\dot x(t) = f(x(t),t)\n",
    "\\end{equation*}"
   ]
  },
  {
   "cell_type": "code",
   "execution_count": null,
   "metadata": {},
   "outputs": [],
   "source": [
    "# Here is the simulation\n",
    "\n",
    "A = np.array([[0.,1.],\n",
    "              [0.,0.]])\n",
    "B = np.array([[0.],\n",
    "              [1.]])\n",
    "\n",
    "def openLoopNewton(x,t):\n",
    "    \n",
    "    u = simpleInputFunction(t)\n",
    "    x_dot = A@x + B@u\n",
    "    return x_dot\n",
    "\n",
    "x0 = np.array([1.,\n",
    "               0])\n",
    "X = itg.odeint(openLoopNewton,x0,Time)\n",
    "fix,ax = plt.subplots(2,1,sharex=True)\n",
    "ax[0].plot(Time,X[:,0])\n",
    "ax[1].plot(Time,X[:,1])\n",
    "ax[0].set_ylabel('Position',fontsize=16)\n",
    "ax[1].set_ylabel('Velocity',fontsize=16)\n",
    "ax[1].set_xlabel('Time',fontsize=16)"
   ]
  },
  {
   "cell_type": "markdown",
   "metadata": {},
   "source": [
    "As we saw from class, the optimal solution to minimize \n",
    "\\begin{equation*}\n",
    "\\int_0^{T_f} \\left(x(t)^\\top Q x(t) +u(t)^\\top R u(t) \\right)dt + x(T_f)^\\top S_{T_f}^{T_f} x(T_f)\n",
    "\\end{equation*}\n",
    "is given by the linear feedback gain: $u(t) = -R^{-1}B^\\top S_t^{T_f}x(t)$, where $S_t^{T_f}$ is given by the Riccati differential equation:\n",
    "\\begin{equation*}\n",
    "-\\frac{d}{dt}S^{T_f}_t = Q + A^\\top S_t^{T_f}+S^{T_f}_t A - S_t^{T_f} BR^{-1}B^\\top S_t^{T_f}.\n",
    "\\end{equation*}\n",
    "\n",
    "The Riccati differential equation is known as a *final-value problem*, since the final value $S_{T_f}^{T_f}$ is given and the differential equation is used to compute past values $S_t^{T_f}$, for $t< T_f$. "
   ]
  },
  {
   "cell_type": "markdown",
   "metadata": {},
   "source": [
    "# Theory Question\n",
    "\n",
    "Most differential equation solvers, such as `odeint` solve *initial value problems*. That is, the value at time $0$ is known, (e.g. $x(0)$ is known) and solutions at future times are computed ($x(t)$ for $t>0$.)\n",
    "\n",
    "Describe how you could compute the values of $S_t^{T_f}$ by solving a corresponding initial value problem. \n",
    "\n",
    "Either write the solution here, or attach a hand-written file describing the solution."
   ]
  },
  {
   "cell_type": "markdown",
   "metadata": {},
   "source": [
    "# Coding Question\n",
    "\n",
    "Assume that $Q$, $R$, and $S_{T_f}^{T_f}$ are given by"
   ]
  },
  {
   "cell_type": "code",
   "execution_count": null,
   "metadata": {},
   "outputs": [],
   "source": [
    "Q = np.diag([1.,0.])\n",
    "R = np.array([[1.]])\n",
    "S_final = np.zeros((2,2))"
   ]
  },
  {
   "cell_type": "markdown",
   "metadata": {},
   "source": [
    "Use `odeint` to find $S_t^{T_f}$ at the time points given by:"
   ]
  },
  {
   "cell_type": "code",
   "execution_count": null,
   "metadata": {},
   "outputs": [],
   "source": [
    "Time = np.linspace(0,10,200)"
   ]
  },
  {
   "cell_type": "markdown",
   "metadata": {},
   "source": [
    "Plot the values ot $S_t^{T_f}$ over these times."
   ]
  },
  {
   "cell_type": "markdown",
   "metadata": {},
   "source": [
    "Hints:\n",
    "- Use the ideas from above to cast the computation as an initial-value problem\n",
    "- While $S_t^{T_f}$ is a $2\\times 2$ matrix, symmetry  implies that there are only $3$ distinct values. \n",
    "- `odeint` assumes that the state is a vector (i.e. a 1D array), not a matrix (i.e. a 2D array). \n",
    "- See https://numpy.org/devdocs/user/absolute_beginners.html for discussion on the distinction between vectors and matrices in `numpy`.\n",
    "- Based on this discussion, the state should be a vector of length $3$."
   ]
  },
  {
   "cell_type": "code",
   "execution_count": null,
   "metadata": {},
   "outputs": [],
   "source": [
    "# Put your code here"
   ]
  },
  {
   "cell_type": "markdown",
   "metadata": {},
   "source": [
    "# Coding Question\n",
    "\n",
    "Compute the solution, $S$, to the associated *algebraic Riccati equation*:\n",
    "$$\n",
    "0 = Q + A^\\top S + SA -SBR^{-1}B^\\top S\n",
    "$$\n",
    "\n",
    "You can do this analytically, or use the command `la.solve_continuous_are`. \n",
    "\n",
    "Redo your plot of $S_t^{T_f}$, overlaying the values of $S$ from this problem to demonstrate how these correspond to asymptotic values of $S_t^{T_f}$."
   ]
  },
  {
   "cell_type": "code",
   "execution_count": null,
   "metadata": {},
   "outputs": [],
   "source": [
    "# Put your code here"
   ]
  },
  {
   "cell_type": "code",
   "execution_count": null,
   "metadata": {},
   "outputs": [],
   "source": []
  }
 ],
 "metadata": {
  "kernelspec": {
   "display_name": "Python 3",
   "language": "python",
   "name": "python3"
  },
  "language_info": {
   "codemirror_mode": {
    "name": "ipython",
    "version": 3
   },
   "file_extension": ".py",
   "mimetype": "text/x-python",
   "name": "python",
   "nbconvert_exporter": "python",
   "pygments_lexer": "ipython3",
   "version": "3.8.2"
  }
 },
 "nbformat": 4,
 "nbformat_minor": 4
}
