{
 "cells": [
  {
   "cell_type": "code",
   "execution_count": 1,
   "metadata": {},
   "outputs": [],
   "source": [
    "import numpy as np\n",
    "import scipy.linalg as la\n",
    "import matplotlib.pyplot as plt\n",
    "import cvxpy as cvx\n",
    "\n",
    "import puma560torch as pm\n",
    "import scipy.integrate as itg\n",
    "import torch as pt\n",
    "\n",
    "%matplotlib inline"
   ]
  },
  {
   "cell_type": "markdown",
   "metadata": {},
   "source": [
    "# Theory Question\n",
    "\n",
    "Recall the robot dynamics from the previous homework. We use Lyapunov analysis to demonstrate how to reach to targets without canceling out all of the nonlinearities.\n",
    "\n",
    "\\begin{align*}\n",
    "\\dot \\theta(t) &= \\omega(t) \\\\\n",
    "M(\\theta(t)) \\dot\\omega(t) + C(\\theta(t),\\omega(t))\\omega(t) + D\\omega(t) + G(\\theta(t)) &= u(t)\n",
    "\\end{align*}\n",
    "\n",
    "* $\\theta(t)$ are generalized coordinates. In our example, they are the angles of the joints of the robot. In this case there are six joints, so $\\theta(t)\\in\\mathbb{R}^6$.\n",
    "* $\\omega(t)$ are the associated velocities of these coordinates. In this case, $\\omega(t)\\in\\mathbb{R}^6$.\n",
    "* $M(\\theta)$ is called the mass matrix. It is symmetric and positive definite. In this case, it is $6\\times 6$.\n",
    "* $C(\\theta,\\omega)$ is called the coriolis matrix. It is also $6\\times 6$.\n",
    "* $D$ is a positive definite damping matrix. It is constant for simplicity.\n",
    "* $G(\\theta)$ captures of the effects of gravity. \n",
    "* $G(\\theta) = \\nabla_\\theta U(\\theta)$ where $U(\\theta)$ is the potential energy.\n",
    "* $u(t)$ are the torques that are input into the joints by the motors.\n",
    "\n",
    "Let $f:\\mathbb{R}^6\\to \\mathbb{R}^3$ be the mapping encoding the transformation from joint angles to the tool position. (Note that we are ignoring the tool orientation.)\n",
    "\n",
    "Let $\\hat U(\\theta) = \\frac{K}{2}\\|f(\\theta)-p_{des}\\|^2$, where $p_{des}$ is the desired location and $K$ is a positive number. Say that\n",
    "$$\n",
    "u(t) = G(\\theta(t)) - \\nabla_{\\theta} \\hat U(\\theta(t)).\n",
    "$$\n",
    "\n",
    "Use Lyapunov analysis to show that if $f(\\bar{\\theta})=p_{des}$ and $\\bar\\omega=0$, then $(\\bar\\theta,\\bar\\omega)$ define a stable equilibrium of the resulting system.\n"
   ]
  },
  {
   "cell_type": "markdown",
   "metadata": {},
   "source": [
    "# Coding Demonstration\n",
    "\n",
    "Now we will see how to reach individual points. Later you will modify this to reach to a desired trajectories. Note, I have updated the code so that it uses `pytorch` instead of standard `numpy` and `scipy`. Coding in `pytorch` is very similar to using `numpy` and `scipy`. It has the major advantage that most numerical functions coded in `pytorch` are differentiable. (We will demonstrate how to take derivatives below.)\n",
    "\n",
    "Additionally, (and surprisingly) it runs faster, too. The only downside is that to utilize various `scipy` and commands, you need to convert between `pytorch` tensors and `numpy` arrays. (The overhead for this is small.)\n",
    "\n",
    "\n",
    "\n",
    "You can install `pytorch` in a terminal using\n",
    "```\n",
    "pip3 install torch\n",
    "```\n"
   ]
  },
  {
   "cell_type": "code",
   "execution_count": 2,
   "metadata": {},
   "outputs": [
    {
     "data": {
      "image/png": "[encoded data removed]",
      "text/plain": [
       "<Figure size 432x288 with 3 Axes>"
      ]
     },
     "metadata": {
      "needs_background": "light"
     },
     "output_type": "display_data"
    }
   ],
   "source": [
    "\n",
    "robot = pm.PUMA()\n",
    "\n",
    "theta_neutral = np.pi * pt.tensor([0,.25,1.,0,.25,0])\n",
    "M = robot.fkine(theta_neutral)\n",
    "p = M[:3,-1]\n",
    "R = M[:3,:3]\n",
    "px,py,pz = p\n",
    "\n",
    "p_des = p + pt.tensor([-.1,.2,.3])\n",
    "\n",
    "M_des = pm.toSE3(R,p_des)\n",
    "Thetas = robot.ikine(M)\n",
    "\n",
    "def pointController(x):\n",
    "    # K acts as a gain\n",
    "    K = 50.\n",
    "    \n",
    "    q = x[:6].clone().detach().requires_grad_(True)\n",
    "    \n",
    "    # The line above copies the angles\n",
    "    # to a new variable \n",
    "    # The requires_grad_(True) part ensures that\n",
    "    # functions of q can be differentiated.\n",
    "    \n",
    "    G = robot.grav_torque(q)\n",
    "    M = robot.fkine(q)\n",
    "    p = M[:3,-1]\n",
    "    \n",
    "    posCost = .5 * K * pt.sum((p-p_des)**2)\n",
    "    \n",
    "    # Here is how we take the gradient\n",
    "    posCost.backward()\n",
    "    # The gradient with respect q is now here\n",
    "    grad = q.grad\n",
    "    \n",
    "    return G - grad\n",
    "    \n",
    "\n",
    "\n",
    "# Basic Closed-Loop System\n",
    "def closedLoopVF(x,t):\n",
    "    # First convert from numpy array to pytorch tensor\n",
    "    x_pt = pt.tensor(x)\n",
    "    u = pointController(x_pt)\n",
    "    x_dot = robot.vectorField(x_pt,u)\n",
    "    # Convert back to a numpy array\n",
    "    x_dot_np = x_dot.detach().numpy()\n",
    "    return x_dot_np\n",
    "\n",
    "# Now run a simulation\n",
    "Time = np.linspace(0,10,1000)\n",
    "x0 = np.hstack([theta_neutral.detach().numpy(),np.zeros(6)])\n",
    "X = itg.odeint(closedLoopVF,x0,Time)\n",
    "\n",
    "# On my computer the simulation takes about 12 seconds.\n",
    "\n",
    "# To use it with the robot\n",
    "# we must convert back to a torch tensor\n",
    "X = pt.tensor(X)\n",
    "Positions = []\n",
    "for x in X:\n",
    "    M = robot.fkine(x[:6])\n",
    "    Positions.append(M[:3,-1])\n",
    "    \n",
    "Positions = pt.stack(Positions)\n",
    "\n",
    "fig,ax = plt.subplots(3,1)\n",
    "for i in range(3):\n",
    "    ax[i].plot(Time,Positions[:,i])\n",
    "    ax[i].plot([Time[0],Time[-1]],[p_des[i],p_des[i]],'k:')"
   ]
  },
  {
   "cell_type": "markdown",
   "metadata": {},
   "source": [
    "# Coding Question\n",
    "\n",
    "Modify the code so that it tracks the desired positions plotted above. (The desired  positions were coded as a function so that you could use them with `odeint` if desired.) \n",
    "\n",
    "Plot the the obtained positions and the desired positions on the same plots so to assess the performance. The tracking performance will probably not be as good as what we saw last week with feedback linearization."
   ]
  },
  {
   "cell_type": "code",
   "execution_count": 3,
   "metadata": {},
   "outputs": [
    {
     "data": {
      "image/png": "[encoded data removed]",
      "text/plain": [
       "<Figure size 432x288 with 3 Axes>"
      ]
     },
     "metadata": {
      "needs_background": "light"
     },
     "output_type": "display_data"
    }
   ],
   "source": [
    "theta_neutral = np.pi * pt.tensor([0,.25,1.,0,.25,0])\n",
    "M_neutral = robot.fkine(theta_neutral)\n",
    "\n",
    "def desiredPositions(t):\n",
    "    p = M_neutral[:3,-1]\n",
    "    px,py,pz = p\n",
    "    if t > 2:\n",
    "        y_jump = .3\n",
    "    else:\n",
    "        y_jump =0.\n",
    "        \n",
    "    if t > 7:\n",
    "        x_jump = -.3\n",
    "    else:\n",
    "        x_jump = 0.\n",
    "    \n",
    "    p_des = pt.stack([px+x_jump,\n",
    "                      py+y_jump,\n",
    "                      pz + .5 * pt.tanh(4-t)])\n",
    "    return p_des\n",
    "    \n",
    "P_traj = pt.stack([desiredPositions(t) for t in pt.tensor(Time)])\n",
    "\n",
    "fig,ax = plt.subplots(3,1)\n",
    "\n",
    "for i in range(3):\n",
    "    ax[i].plot(Time,P_traj[:,i])\n",
    "    "
   ]
  },
  {
   "cell_type": "code",
   "execution_count": null,
   "metadata": {},
   "outputs": [],
   "source": [
    "# Put your code here\n",
    "\n"
   ]
  },
  {
   "cell_type": "markdown",
   "metadata": {},
   "source": [
    "# Coding Background\n",
    "\n",
    "Here we will demonstrate a simple method for coding up model predictive control using `cvxpy`. This is just so that you have an example of how the process works.\n",
    "\n",
    "If you have not installed `cvxpy` you can an install it in a terminal via the command\n",
    "\n",
    "```\n",
    "pip3 install cvxpy\n",
    "```\n",
    "\n",
    "The optimization problem solved at each stage will be given by $\\mathbb{P}_N(x)$:\n",
    "\\begin{align*}\n",
    "& \\min && {\\bf x}_N^\\top Q{\\bf x}_N \\\\\n",
    "& \\textrm{subject to} && {\\bf x}_0 = x\\\\\n",
    "&&&\n",
    "{\\bf x}_{i+1} = A{\\bf x}_i + B{\\bf u}_i \\textrm{ for } i=0,\\ldots,N-1\\\\\n",
    "&&& -1\\le {\\bf u}_i \\le 1 \\textrm{ for } i=0,\\ldots,N-1\n",
    "\\end{align*}\n",
    "\n",
    "Note that this problem does not satisfy the conditions for stability that we will discuss in class. But we will see that stability seems to hold provided that $N\\ge 2$. Here $A$ and $B$ will encode Newton's equations in discrete time, and $Q$ is a positive definite matrix."
   ]
  },
  {
   "cell_type": "code",
   "execution_count": 4,
   "metadata": {},
   "outputs": [
    {
     "data": {
      "text/plain": [
       "Text(0.5, 0, 'Time')"
      ]
     },
     "execution_count": 4,
     "metadata": {},
     "output_type": "execute_result"
    },
    {
     "data": {
      "image/png": "[encoded data removed]",
      "text/plain": [
       "<Figure size 432x288 with 3 Axes>"
      ]
     },
     "metadata": {
      "needs_background": "light"
     },
     "output_type": "display_data"
    }
   ],
   "source": [
    "# First define the matrices.\n",
    "h = 0.1\n",
    "m = 1.\n",
    "\n",
    "A = np.array([[1.,h],\n",
    "              [0,1.]])\n",
    "B = np.array([[0.],\n",
    "              [h/m]])\n",
    "\n",
    "Q = np.diag([10,1.])\n",
    "# Matrix square root\n",
    "Qrt = la.cholesky(Q)\n",
    "# Now define the problem via cvxpy symbolics\n",
    "N = 10 # MPC Horizon\n",
    "n,p = B.shape\n",
    "x0 = cvx.Parameter(n)\n",
    "U_var = cvx.Variable((N,p))\n",
    "Constraints = []\n",
    "for i in range(N):\n",
    "    if i == 0:\n",
    "        x = x0\n",
    "    \n",
    "    u = U_var[i]\n",
    "    Constraints.extend([u<=1,-1<=u])\n",
    "    x = A@x+B@u\n",
    "    \n",
    "cost = cvx.sum_squares(Qrt@x)\n",
    "prob = cvx.Problem(cvx.Minimize(cost),Constraints)\n",
    "\n",
    "# Now define the MPC controller\n",
    "\n",
    "def mpcControl(x):\n",
    "    # Set the parameter value\n",
    "    x0.value = x\n",
    "    # Solve the problem\n",
    "    prob.solve()\n",
    "    if prob.status == 'optimal':\n",
    "        # If the optimization worked\n",
    "        # Return the first input\n",
    "        return U_var.value[0]\n",
    "    else:\n",
    "        # It didn't work so don't return anything\n",
    "        return None\n",
    "\n",
    "# Now run a simulation with the the controller\n",
    "\n",
    "x = np.array([1.,\n",
    "              3.])\n",
    "\n",
    "X = [x]\n",
    "U = []\n",
    "NumSteps = 200\n",
    "for step in range(NumSteps):\n",
    "    u = mpcControl(x)\n",
    "    if u is None:\n",
    "        print('MPC Failed')\n",
    "        break\n",
    "        \n",
    "    U.append(u)\n",
    "    \n",
    "    x = A@x+B@u\n",
    "    \n",
    "    X.append(x)\n",
    "    \n",
    "X = np.array(X)\n",
    "U = np.array(U)\n",
    "\n",
    "Time = h * np.arange(len(X))\n",
    "\n",
    "fig,ax = plt.subplots(3,1,sharex=True)\n",
    "ax[0].plot(Time,X[:,0])\n",
    "ax[0].set_ylabel(r'$x[0]$')\n",
    "ax[1].plot(Time,X[:,1])\n",
    "ax[1].set_ylabel(r'$x[1]$')\n",
    "ax[2].plot(Time[:-1],U)\n",
    "ax[2].set_ylabel(r'$u$')\n",
    "ax[2].set_xlabel('Time')\n"
   ]
  },
  {
   "cell_type": "markdown",
   "metadata": {},
   "source": [
    "Note how the algorithm ensures that $|u(t)|\\le 1$.\n",
    "\n",
    "There are several ways to encode the cost function in `cvxpy`. They will all get the same answer, but some are slower for MPC. In particular, you could use\n",
    "```\n",
    "cost = cvx.quad_form(x,Q)\n",
    "```\n",
    "but this gives slower performance in some settings.\n"
   ]
  },
  {
   "cell_type": "markdown",
   "metadata": {},
   "source": [
    "# Background: Stability of Discrete-Time Linear Systems\n",
    "\n",
    "A discrete-time linear system with no inputs takes the form:\n",
    "\n",
    "$$\n",
    "x_{t+1} = Ax_t.\n",
    "$$\n",
    "\n",
    "Iterating this equation shows that $x_t = A^t x_0$. The main theorem for linear system stability is that the following statements are equivalent:\n",
    "\n",
    "* The discrete-time linear system is asymptotically stable.\n",
    "* All eigenvalues of $A$ have magnitudes strictly less than $1$.\n",
    "* For any positive definite $Q$ there is a positive definite $P$ such that\n",
    "$$\n",
    "P = Q + A^\\top P A \n",
    "$$\n",
    "\n",
    "The final equation is called the discrete-time linear Lyapunov equation. It gets this name because any $P$ that satisfies the Lyapunov equation for a positive definite $Q$ defines a Lyapunov function by $V(x) = x^\\top P x$. \n",
    "\n",
    "The system \n",
    "$$\n",
    "x_{t+1} = Ax_t + B u_t\n",
    "$$\n",
    "is called *stabilizable* if there is a gain $H$ such that setting $u_t=Hx_t$ makes the closed-loop system given by \n",
    "$$\n",
    "x_{t+1} = (A+BH)x_t\n",
    "$$\n",
    "asymptotically stable.\n",
    "\n",
    "# Theory Question\n",
    "\n",
    "Show that if $P$ satisfies the linear Lyapunov equation, then\n",
    "\n",
    "$$\n",
    "x_0^\\top P x_0 = \\sum_{t=0}^{\\infty} x_t^\\top Q x_t.\n",
    "$$\n",
    "\n",
    "Either write your solution here or attach a hand-written file.\n",
    "\n",
    "# Theory Question\n",
    "\n",
    "Let  $P$ be a solution to the Lyapunov equation for a positive definite $Q$.\n",
    "Show that $V(x) = x^\\top Px$ satisfies the formal definition for a Lyapunov equation in Definition 2.12 of the MPC text.\n",
    "\n",
    "Hint: For any vector $x$, you can use the fact that $\\lambda_{\\min}(P) x^\\top x \\le x^\\top P x \\le \\lambda_{\\max}(P) x^\\top x$, where $\\lambda_{\\min}(P)$ and $\\lambda_{\\max}(P)$ are the minimum and maximum eigenvalues of $P$, respectively. \n",
    "\n",
    "Either write your solution here or attach a hand-written file.\n",
    "\n",
    "# Background: Discrete-Time Linear Quadratic Regulators\n",
    "\n",
    "The discrete-time version of the linear quadratic regulator (LQR) problem is similar to the continuous-time version. As with the continuous-time case, we can pose finite and infinite horizon versions. We will focus on the infinite horizon version.\n",
    "\n",
    "\\begin{align*}\n",
    "& \\min && \\sum_{t=0}^\\infty (x_t^\\top Q x_t + u_t^\\top R u_t) \\\\\n",
    "& \\textrm{subject to} && x_{t+1} = Ax_t +Bu_t\n",
    "\\end{align*}\n",
    "\n",
    "When $Q$ and $R$ are positive definite and the system is stabilizable, then the infinite horizon LQR problem has a solution given by \n",
    "\\begin{align*}\n",
    "u_t &= Kx_t \\\\\n",
    "K &= -(R+B^\\top S B)^{-1} B^\\top SA \\\\\n",
    "S &= Q + A^\\top S A - A^\\top S B(R+B^\\top SB)^{-1} B^\\top SA\n",
    "\\end{align*}\n",
    "\n",
    "The last equation is called the discrete-time algebraic Riccati equation. `scipy.linalg` has a command for computing this called `la.solve_discrete_are`.\n",
    "\n",
    "# Theory Question\n",
    "\n",
    "Show that if $S$ is positive definite and $S$ is a solution to the discrete-time algebraic Riccati equation, then $S$ is a Lyapunov function for the closed-loop system:\n",
    "$$\n",
    "x_{t+1} = (A+BK)x_t\n",
    "$$\n",
    "\n",
    "Either write your solution here or attach a hand-written file.\n",
    "\n",
    "# Theory Question\n",
    "\n",
    "Let $S$ be the Riccati solution and let $K$ be the corresponding gain from before. Let $c>0$ be positive. Let\n",
    "\n",
    "* $V_f(x) = x^\\top Sx$\n",
    "\n",
    "* $\\mathbb{X}_f = \\{x | V_f(x)\\le c\\}$\n",
    "\n",
    "\n",
    "Show that the following properties hold:\n",
    "\n",
    "* $\\min_u \\left[x^\\top Q x +u^\\top R u + V_f(Ax+Bu)\\right] \\le V_f(x)$ \n",
    "* In particular, show that if $x\\in\\mathbb{X}_f$ and $u=Kx$, then $Ax+Bu \\in \\mathbb{X}_f$.\n"
   ]
  },
  {
   "cell_type": "markdown",
   "metadata": {},
   "source": [
    "# Coding Question\n",
    "\n",
    "Consider $A$, $B$, $Q$, and $R$ as below:"
   ]
  },
  {
   "cell_type": "code",
   "execution_count": null,
   "metadata": {},
   "outputs": [],
   "source": [
    "h = 0.1\n",
    "m = 1.\n",
    "\n",
    "A = np.array([[1.,h],\n",
    "              [0,1.]])\n",
    "B = np.array([[0.],\n",
    "              [h/m]])\n",
    "\n",
    "Q = np.eye(2)\n",
    "R = np.eye(1)"
   ]
  },
  {
   "cell_type": "markdown",
   "metadata": {},
   "source": [
    "Find the Riccati solution, and find the largest value of $c$ such that the following constraints hold:\n",
    "\\begin{equation*}\n",
    "-2 \\le \\begin{bmatrix}1 & 0 \\end{bmatrix}x \\le 2 \\\\\n",
    "-1 \\le Kx \\le 1\n",
    "\\end{equation*}\n",
    "for all $x$ such that $x^\\top S x \\le c$. \n",
    "\n",
    "Plot the ellipsoid given by $\\{x|x^\\top S x \\le c\\}$ along with the boundaries of the constraints. (If you have maximized the $c$, the boundary of the ellipsoid should touch at least one of the constraint boundaries.)\n",
    "\n",
    "Print the value of $c$ so that I can check it.\n",
    "\n",
    "(The lecture describing energy functions gave an example of doing surface plots. Plus there are lots of examples  online.)\n",
    "\n",
    "(You can either find $c$ analytically or use a software package such as `cvxpy` to compute it.)"
   ]
  },
  {
   "cell_type": "code",
   "execution_count": null,
   "metadata": {},
   "outputs": [],
   "source": [
    "# Put your code here"
   ]
  },
  {
   "cell_type": "markdown",
   "metadata": {},
   "source": [
    "# Coding Question\n",
    "\n",
    "Implement MPC for the system from the previous problem with $\\mathbb{P}_N(x)$ given by\n",
    "\\begin{align*}\n",
    "& \\min && \\sum_{i=0}^{N-1}({\\bf x}_i^\\top Q {\\bf x_i} + {\\bf u}_i^\\top  R {\\bf u}_i) + \n",
    "{\\bf x}_N^\\top S {\\bf x}_N \\\\\n",
    "& \\textrm{subject to} && {\\bf x}_0 = x \\\\\n",
    "&&& {\\bf x}_{i+1} = A {\\bf x}_i + B {\\bf u}_i \\textrm{ for } i=0,\\ldots,N-1\\\\\n",
    "&&& -2 \\le \\begin{bmatrix} 1 & 0 \\end{bmatrix} {\\bf x}_i \\le 2 \\textrm{ for } i=0,\\ldots,N-1 \\\\\n",
    "&&& -1 \\le {\\bf u}_i \\le 1 \\textrm{ for } i=0,\\ldots,N-1 \\\\\n",
    "&&& {\\bf x}_N^\\top S {\\bf x}_N \\le c\n",
    "\\end{align*}\n",
    "\n",
    "Simulate your controller for $50$ time steps for MPC horizons of $N=10,20,30$. In each setting, use an initial condition of\n",
    "\\begin{equation*}\n",
    "x(0) = \\begin{bmatrix}1\\\\0\\end{bmatrix}.\n",
    "\\end{equation*}\n",
    "Plot the state and input trajectories as functions of time.\n",
    "\n",
    "Explain what happens if you used $N=5$."
   ]
  },
  {
   "cell_type": "code",
   "execution_count": null,
   "metadata": {},
   "outputs": [],
   "source": [
    "# Put your code here"
   ]
  }
 ],
 "metadata": {
  "kernelspec": {
   "display_name": "Python 3",
   "language": "python",
   "name": "python3"
  },
  "language_info": {
   "codemirror_mode": {
    "name": "ipython",
    "version": 3
   },
   "file_extension": ".py",
   "mimetype": "text/x-python",
   "name": "python",
   "nbconvert_exporter": "python",
   "pygments_lexer": "ipython3",
   "version": "3.8.2"
  }
 },
 "nbformat": 4,
 "nbformat_minor": 4
}
